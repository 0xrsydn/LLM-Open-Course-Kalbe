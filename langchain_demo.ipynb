{
 "cells": [
  {
   "cell_type": "markdown",
   "id": "19bd151c-8dc5-41c3-b859-de72d2cea526",
   "metadata": {},
   "source": [
    "# **LangChain Introduction**"
   ]
  },
  {
   "cell_type": "markdown",
   "id": "b1ba0968-e5d3-405a-b31e-c54b876457c0",
   "metadata": {},
   "source": [
    "### Introduction to LangChain and it's Expression Language."
   ]
  },
  {
   "cell_type": "code",
   "execution_count": 18,
   "id": "2293811a-589c-48bd-b232-5a29cfe3faf8",
   "metadata": {},
   "outputs": [
    {
     "data": {
      "text/plain": [
       "\" Why did the Python programmer quit his job?\\n\\nHe didn't get arrays with functions as arguments.\\n\\n(I'm here all week...)\""
      ]
     },
     "execution_count": 18,
     "metadata": {},
     "output_type": "execute_result"
    }
   ],
   "source": [
    "#Mistral is used here as example model, which is locally installed through ollama.\n",
    "from langchain.llms import Ollama\n",
    "\n",
    "model = Ollama(model=\"mistral\")\n",
    "\n",
    "mistral.invoke(\"Tell me a joke about Python!\")"
   ]
  },
  {
   "cell_type": "markdown",
   "id": "52259600-a314-46c2-8f88-c0d78406ffc5",
   "metadata": {},
   "source": [
    "### **Chain**"
   ]
  },
  {
   "cell_type": "code",
   "execution_count": 27,
   "id": "963a46fc-e504-4b43-a352-5ae5fef46e73",
   "metadata": {},
   "outputs": [
    {
     "data": {
      "text/plain": [
       "ChatPromptTemplate(input_variables=['topic'], messages=[HumanMessagePromptTemplate(prompt=PromptTemplate(input_variables=['topic'], template='Generate a poem about {topic}'))])\n",
       "| Ollama(model='mistral')"
      ]
     },
     "execution_count": 27,
     "metadata": {},
     "output_type": "execute_result"
    }
   ],
   "source": [
    "from langchain_core.prompts import ChatPromptTemplate\n",
    "\n",
    "prompt = ChatPromptTemplate.from_template(\"Generate a poem about {topic}\")\n",
    "chain = prompt | model\n",
    "chain"
   ]
  },
  {
   "cell_type": "code",
   "execution_count": 28,
   "id": "698969d9-364a-40c4-9172-25dae791b07a",
   "metadata": {},
   "outputs": [
    {
     "data": {
      "text/plain": [
       "{'title': 'PromptInput',\n",
       " 'type': 'object',\n",
       " 'properties': {'topic': {'title': 'Topic', 'type': 'string'}}}"
      ]
     },
     "execution_count": 28,
     "metadata": {},
     "output_type": "execute_result"
    }
   ],
   "source": [
    "chain.input_schema.schema()"
   ]
  },
  {
   "cell_type": "code",
   "execution_count": 29,
   "id": "85cbc9a7-c34f-42df-828d-d719b77569c1",
   "metadata": {},
   "outputs": [
    {
     "data": {
      "text/plain": [
       "{'title': 'PromptInput',\n",
       " 'type': 'object',\n",
       " 'properties': {'topic': {'title': 'Topic', 'type': 'string'}}}"
      ]
     },
     "execution_count": 29,
     "metadata": {},
     "output_type": "execute_result"
    }
   ],
   "source": [
    "prompt.input_schema.schema()"
   ]
  },
  {
   "cell_type": "code",
   "execution_count": 30,
   "id": "39e00aba-41de-4d6b-b3ac-bdd168a2a0a3",
   "metadata": {},
   "outputs": [
    {
     "data": {
      "text/plain": [
       "{'title': 'OllamaInput',\n",
       " 'anyOf': [{'type': 'string'},\n",
       "  {'$ref': '#/definitions/StringPromptValue'},\n",
       "  {'$ref': '#/definitions/ChatPromptValueConcrete'},\n",
       "  {'type': 'array',\n",
       "   'items': {'anyOf': [{'$ref': '#/definitions/AIMessage'},\n",
       "     {'$ref': '#/definitions/HumanMessage'},\n",
       "     {'$ref': '#/definitions/ChatMessage'},\n",
       "     {'$ref': '#/definitions/SystemMessage'},\n",
       "     {'$ref': '#/definitions/FunctionMessage'},\n",
       "     {'$ref': '#/definitions/ToolMessage'}]}}],\n",
       " 'definitions': {'StringPromptValue': {'title': 'StringPromptValue',\n",
       "   'description': 'String prompt value.',\n",
       "   'type': 'object',\n",
       "   'properties': {'text': {'title': 'Text', 'type': 'string'},\n",
       "    'type': {'title': 'Type',\n",
       "     'default': 'StringPromptValue',\n",
       "     'enum': ['StringPromptValue'],\n",
       "     'type': 'string'}},\n",
       "   'required': ['text']},\n",
       "  'AIMessage': {'title': 'AIMessage',\n",
       "   'description': 'Message from an AI.',\n",
       "   'type': 'object',\n",
       "   'properties': {'content': {'title': 'Content',\n",
       "     'anyOf': [{'type': 'string'},\n",
       "      {'type': 'array',\n",
       "       'items': {'anyOf': [{'type': 'string'}, {'type': 'object'}]}}]},\n",
       "    'additional_kwargs': {'title': 'Additional Kwargs', 'type': 'object'},\n",
       "    'type': {'title': 'Type',\n",
       "     'default': 'ai',\n",
       "     'enum': ['ai'],\n",
       "     'type': 'string'},\n",
       "    'name': {'title': 'Name', 'type': 'string'},\n",
       "    'example': {'title': 'Example', 'default': False, 'type': 'boolean'}},\n",
       "   'required': ['content']},\n",
       "  'HumanMessage': {'title': 'HumanMessage',\n",
       "   'description': 'Message from a human.',\n",
       "   'type': 'object',\n",
       "   'properties': {'content': {'title': 'Content',\n",
       "     'anyOf': [{'type': 'string'},\n",
       "      {'type': 'array',\n",
       "       'items': {'anyOf': [{'type': 'string'}, {'type': 'object'}]}}]},\n",
       "    'additional_kwargs': {'title': 'Additional Kwargs', 'type': 'object'},\n",
       "    'type': {'title': 'Type',\n",
       "     'default': 'human',\n",
       "     'enum': ['human'],\n",
       "     'type': 'string'},\n",
       "    'name': {'title': 'Name', 'type': 'string'},\n",
       "    'example': {'title': 'Example', 'default': False, 'type': 'boolean'}},\n",
       "   'required': ['content']},\n",
       "  'ChatMessage': {'title': 'ChatMessage',\n",
       "   'description': 'Message that can be assigned an arbitrary speaker (i.e. role).',\n",
       "   'type': 'object',\n",
       "   'properties': {'content': {'title': 'Content',\n",
       "     'anyOf': [{'type': 'string'},\n",
       "      {'type': 'array',\n",
       "       'items': {'anyOf': [{'type': 'string'}, {'type': 'object'}]}}]},\n",
       "    'additional_kwargs': {'title': 'Additional Kwargs', 'type': 'object'},\n",
       "    'type': {'title': 'Type',\n",
       "     'default': 'chat',\n",
       "     'enum': ['chat'],\n",
       "     'type': 'string'},\n",
       "    'name': {'title': 'Name', 'type': 'string'},\n",
       "    'role': {'title': 'Role', 'type': 'string'}},\n",
       "   'required': ['content', 'role']},\n",
       "  'SystemMessage': {'title': 'SystemMessage',\n",
       "   'description': 'Message for priming AI behavior, usually passed in as the first of a sequence\\nof input messages.',\n",
       "   'type': 'object',\n",
       "   'properties': {'content': {'title': 'Content',\n",
       "     'anyOf': [{'type': 'string'},\n",
       "      {'type': 'array',\n",
       "       'items': {'anyOf': [{'type': 'string'}, {'type': 'object'}]}}]},\n",
       "    'additional_kwargs': {'title': 'Additional Kwargs', 'type': 'object'},\n",
       "    'type': {'title': 'Type',\n",
       "     'default': 'system',\n",
       "     'enum': ['system'],\n",
       "     'type': 'string'},\n",
       "    'name': {'title': 'Name', 'type': 'string'}},\n",
       "   'required': ['content']},\n",
       "  'FunctionMessage': {'title': 'FunctionMessage',\n",
       "   'description': 'Message for passing the result of executing a function back to a model.',\n",
       "   'type': 'object',\n",
       "   'properties': {'content': {'title': 'Content',\n",
       "     'anyOf': [{'type': 'string'},\n",
       "      {'type': 'array',\n",
       "       'items': {'anyOf': [{'type': 'string'}, {'type': 'object'}]}}]},\n",
       "    'additional_kwargs': {'title': 'Additional Kwargs', 'type': 'object'},\n",
       "    'type': {'title': 'Type',\n",
       "     'default': 'function',\n",
       "     'enum': ['function'],\n",
       "     'type': 'string'},\n",
       "    'name': {'title': 'Name', 'type': 'string'}},\n",
       "   'required': ['content', 'name']},\n",
       "  'ToolMessage': {'title': 'ToolMessage',\n",
       "   'description': 'Message for passing the result of executing a tool back to a model.',\n",
       "   'type': 'object',\n",
       "   'properties': {'content': {'title': 'Content',\n",
       "     'anyOf': [{'type': 'string'},\n",
       "      {'type': 'array',\n",
       "       'items': {'anyOf': [{'type': 'string'}, {'type': 'object'}]}}]},\n",
       "    'additional_kwargs': {'title': 'Additional Kwargs', 'type': 'object'},\n",
       "    'type': {'title': 'Type',\n",
       "     'default': 'tool',\n",
       "     'enum': ['tool'],\n",
       "     'type': 'string'},\n",
       "    'name': {'title': 'Name', 'type': 'string'},\n",
       "    'tool_call_id': {'title': 'Tool Call Id', 'type': 'string'}},\n",
       "   'required': ['content', 'tool_call_id']},\n",
       "  'ChatPromptValueConcrete': {'title': 'ChatPromptValueConcrete',\n",
       "   'description': 'Chat prompt value which explicitly lists out the message types it accepts.\\nFor use in external schemas.',\n",
       "   'type': 'object',\n",
       "   'properties': {'messages': {'title': 'Messages',\n",
       "     'type': 'array',\n",
       "     'items': {'anyOf': [{'$ref': '#/definitions/AIMessage'},\n",
       "       {'$ref': '#/definitions/HumanMessage'},\n",
       "       {'$ref': '#/definitions/ChatMessage'},\n",
       "       {'$ref': '#/definitions/SystemMessage'},\n",
       "       {'$ref': '#/definitions/FunctionMessage'},\n",
       "       {'$ref': '#/definitions/ToolMessage'}]}},\n",
       "    'type': {'title': 'Type',\n",
       "     'default': 'ChatPromptValueConcrete',\n",
       "     'enum': ['ChatPromptValueConcrete'],\n",
       "     'type': 'string'}},\n",
       "   'required': ['messages']}}}"
      ]
     },
     "execution_count": 30,
     "metadata": {},
     "output_type": "execute_result"
    }
   ],
   "source": [
    "model.input_schema.schema()"
   ]
  },
  {
   "cell_type": "code",
   "execution_count": 37,
   "id": "719bf8c9-8407-4345-b0dc-5c824b97a904",
   "metadata": {},
   "outputs": [
    {
     "data": {
      "text/plain": [
       "{'title': 'OllamaOutput', 'type': 'string'}"
      ]
     },
     "execution_count": 37,
     "metadata": {},
     "output_type": "execute_result"
    }
   ],
   "source": [
    "chain.output_schema.schema()"
   ]
  },
  {
   "cell_type": "code",
   "execution_count": 42,
   "id": "5d54b19c-751a-45c9-8ef0-f8bc90a62b12",
   "metadata": {},
   "outputs": [],
   "source": [
    "prompt2 = ChatPromptTemplate.from_messages([\n",
    "    (\"system\", \"You are computer science professor from world class university.\"),\n",
    "    (\"user\", \"{input}\")])\n",
    "chain2 = prompt2 | model"
   ]
  },
  {
   "cell_type": "code",
   "execution_count": 43,
   "id": "ec2aaa8a-6d5a-46e6-8adf-89351e5fe800",
   "metadata": {},
   "outputs": [
    {
     "data": {
      "text/plain": [
       "\" As a world-class computer science professor, I'd be happy to help answer your question about Rust. Rust is a multi-paradigm programming language that is designed to provide better memory safety while maintaining high performance. It was developed by Mozilla Research with the primary goal of addressing the common pitfalls of C++: memory safety and threading without data races.\\n\\nRust is mainly used for system programming, game development, and building high-performance applications where control over resources and efficient use of hardware are essential. Its strong type system, zero-cost abstractions, and ownership model enable developers to write reliable code with minimal runtime overhead. This makes it an excellent choice for projects that require a balance between performance, safety, and maintainability.\\n\\nSome popular use cases for Rust include:\\n\\n1. System programming: With its memory safety features and low-level control, Rust is ideal for developing system software such as operating systems, file systems, and device drivers.\\n2. Networking: Due to its performance benefits and strong type system, Rust is popular in the networking domain, including building web servers, network protocols, and distributed systems.\\n3. Game development: Rust's low-level control over resources and fast compile times make it suitable for game development, allowing developers to create high-performance games with a stable codebase.\\n4. Embedded systems: Rust can be used for developing software for embedded systems due to its small memory footprint and strong type system. This ensures that the code is reliable and efficient, making it an excellent choice for IoT devices or other resource-constrained systems.\\n5. Concurrency: With Rust's built-in support for concurrency and its ownership model that eliminates data races at compile time, it is a great choice for developing highly concurrent systems.\\n\\nIn summary, Rust is mainly used for projects that require high performance, memory safety, and low-level control over resources, such as system programming, game development, networking, embedded systems, and concurrency.\""
      ]
     },
     "execution_count": 43,
     "metadata": {},
     "output_type": "execute_result"
    }
   ],
   "source": [
    "chain2.invoke({\"input\": \"what is rust mainly used for?\"})"
   ]
  },
  {
   "cell_type": "code",
   "execution_count": 44,
   "id": "e50c987e-7bfc-4e9f-b524-21ba289c8351",
   "metadata": {},
   "outputs": [],
   "source": [
    "from langchain_core.output_parsers import StrOutputParser\n",
    "\n",
    "output_parser = StrOutputParser()\n",
    "chain2 = prompt2 | model | output_parser"
   ]
  },
  {
   "cell_type": "code",
   "execution_count": 45,
   "id": "95ae9eed-2c34-45d5-8755-d64f7babda33",
   "metadata": {},
   "outputs": [
    {
     "data": {
      "text/plain": [
       "\" As a computer science professor from a world-class university, I can tell you that Rust is a multi-paradigm programming language known for its focus on performance, safety, and concurrency. While it can be used for various purposes, Rust is particularly popular among system programmers and developers who need high performance with memory safety guarantees. Here are some common use cases:\\n\\n1. Systems programming: Rust's strong type system, ownership model, and zero-cost abstractions make it a great choice for developing system software and low-level applications where memory management is critical.\\n\\n2. Concurrent programming: With built-in support for concurrency through its 'async-await' feature, Rust makes it easier to write safe concurrent code without the need for complex locks or other synchronization mechanisms.\\n\\n3. Game development: Many game engines, such as Amethyst and Rusty Engine, have been developed in Rust due to its low-level control, performance capabilities, and safety features that prevent common programming errors.\\n\\n4. WebAssembly projects: With the growing popularity of WebAssembly (WASM) for building web applications and games, Rust is an excellent choice as it can be compiled to WASM with ease. This makes Rust suitable for developing front-end components and back-end services that share the same codebase.\\n\\n5. Network programming: Rust's strong type system, low-level control, and emphasis on safety make it a perfect fit for network programming tasks such as building web servers, email servers, and other related applications.\""
      ]
     },
     "execution_count": 45,
     "metadata": {},
     "output_type": "execute_result"
    }
   ],
   "source": [
    "chain2.invoke({\"input\": \"what is rust mainly used for?\"})"
   ]
  },
  {
   "cell_type": "code",
   "execution_count": null,
   "id": "b56f36d6-bdb6-4d4e-ba9f-657bac8dd702",
   "metadata": {},
   "outputs": [],
   "source": []
  },
  {
   "cell_type": "markdown",
   "id": "2e3a1294-16fe-481e-8a6f-96b77dd407e0",
   "metadata": {},
   "source": [
    "### **Streaming responses**"
   ]
  },
  {
   "cell_type": "code",
   "execution_count": 26,
   "id": "ef077ee5-c6ad-414d-9630-715794d8c146",
   "metadata": {},
   "outputs": [
    {
     "name": "stdout",
     "output_type": "stream",
     "text": [
      " In the heart of the kitchen, a tale unfolds,\n",
      "A story of joy, where love and art collide,\n",
      "A symphony of flavors in perfect harmony,\n",
      "Born from humble roots, this delightful spree.\n",
      "\n",
      "Picture this scene, beneath the twinkling light,\n",
      "Of a pizza pie, bathed in gentle sight,\n",
      "An canvas blank, ready for a master's touch,\n",
      "With sauce as palette and cheese to hutch.\n",
      "\n",
      "Golden crust, a stage for delectable feast,\n",
      "Tomato's dance atop a bed of creamy beest,\n",
      "Mozzarella dreams in milky, tender bloom,\n",
      "Pepperoni soldiers, waiting for the room.\n",
      "\n",
      "A garden of vegetables, each vibrant and bright,\n",
      "Bell peppers, onions, olives, an exquisite sight,\n",
      "With a dash of herbs, basil's sweet, fragrant allure,\n",
      "An aromatic journey, that leaves us wanting more.\n",
      "\n",
      "The oven roars to life with a fiery might,\n",
      "Kissing each ingredient into a perfect delight,\n",
      "Golden brown perfection, ready to be devoured,\n",
      "A moment of bliss, as we savor each power.\n",
      "\n",
      "Pizza pie, you've woven a magical spell,\n",
      "Bringing us together, as we tell stories well,\n",
      "In every bite, a piece of our hearts intertwined,\n",
      "This is the beauty, of a pizza bound mind."
     ]
    }
   ],
   "source": [
    "pizza = chain.stream({\"topic\": \"Pizza\"})\n",
    "for content in pizza:\n",
    "    print(content, end=\"\", flush=True)"
   ]
  },
  {
   "cell_type": "markdown",
   "id": "d233a1aa-c94e-45ab-b5fd-cee48ff47be8",
   "metadata": {},
   "source": [
    "### **Parallel Processing**"
   ]
  },
  {
   "cell_type": "code",
   "execution_count": 32,
   "id": "112900af-3b6b-4905-b830-84503227b035",
   "metadata": {},
   "outputs": [],
   "source": [
    "#allow each element to run in parallel\n",
    "from langchain.schema.runnable import RunnableParallel\n",
    "\n",
    "chain1 = ChatPromptTemplate.from_template(\"Tell a joke about {topic}\") | model\n",
    "chain2 = ChatPromptTemplate.from_template(\"Write a short explanation about {topic}\") | model\n",
    "combined = RunnableParallel(joke=chain1, exp=chain2)"
   ]
  },
  {
   "cell_type": "code",
   "execution_count": 33,
   "id": "18d49cd6-288f-4e83-a5ca-dd70f769bb44",
   "metadata": {},
   "outputs": [
    {
     "name": "stdout",
     "output_type": "stream",
     "text": [
      "CPU times: user 31.1 ms, sys: 15.7 ms, total: 46.8 ms\n",
      "Wall time: 5 s\n"
     ]
    },
    {
     "data": {
      "text/plain": [
       "[' Why did the biology textbook feel hated?\\n\\nBecause people kept spouting things at it! (Sputting = Spewing + Putting) But in all seriousness, why were the scientists studying the old mummy in the lab so excited? Because they found out it was a mumm-yield! (Yield = result or discovery) Science can be full of puns!',\n",
       " ' Why don\\'t motorcycles ever forget where they parked?\\n\\nBecause they always find their own spot!\\n\\nOr how about this one:\\n\\nWhy did the biker name his hog \"Rusty\"?\\n\\nBecause he was always fixing it up!\\n\\nAnd for a classic, why did the motorcycle fall over? Because it saw the salad dressing! (Remember, this is just a joke and not an actual reason why a motorcycle would fall over)']"
      ]
     },
     "execution_count": 33,
     "metadata": {},
     "output_type": "execute_result"
    }
   ],
   "source": [
    "%%time\n",
    "\n",
    "chain1.batch([{\"topic\": \"Science\"}, {\"topic\": \"Motorcycle\"}])"
   ]
  },
  {
   "cell_type": "code",
   "execution_count": 35,
   "id": "0fa62ba7-04dc-4536-93ac-c15438e323e5",
   "metadata": {},
   "outputs": [
    {
     "name": "stdout",
     "output_type": "stream",
     "text": [
      "CPU times: user 89.3 ms, sys: 1.95 ms, total: 91.2 ms\n",
      "Wall time: 10 s\n"
     ]
    },
    {
     "data": {
      "text/plain": [
       "[\" Science is a systematic and logical method of discovering knowledge about the physical world around us. It involves making observations, asking questions, formulating hypotheses (possible answers), testing these hypotheses through experiments, and analyzing data to draw conclusions. Science is based on evidence, and its methods are designed to minimize errors and biases. The ultimate goal of science is to expand our understanding of the universe, from the smallest subatomic particles to the vastness of the cosmos. Science is continually evolving as new discoveries and technologies push the boundaries of our knowledge. It's an essential aspect of modern society, influencing many aspects of our lives, including healthcare, technology, and infrastructure development.\",\n",
       " ' A motorcycle is a two- or three-wheeled vehicle that uses an internal combustion engine or an electric motor to propel the rider and a passenger (if equipped) forward. The design, construction, and specifications of motorcycles vary greatly, ranging from small scooters to large touring bikes, and from minimalist cafe racers to full-dressed touring machines.\\n\\nMotorcycles offer several advantages over cars for transportation. They are more fuel-efficient, easier to maneuver in tight spaces, and often provide a more direct riding experience that connects the rider to the road and environment. Motorcycles can also travel at higher speeds than cars, making them an attractive choice for long-distance touring or racing applications.\\n\\nRiding a motorcycle requires special skills and knowledge due to its dynamic nature. Riders must be able to balance the bike while in motion, control it using handlebars, footpegs, and throttle, and apply brakes effectively. Motorcyclists must also wear appropriate protective gear, such as helmets, jackets, gloves, and pants, to minimize the risk of injuries in case of accidents.\\n\\nMotorcycles have a rich history and culture, with various motorcycle clubs and organizations dedicated to their preservation, restoration, and riding communities. Motorcycle racing is also a popular competitive sport that showcases the performance capabilities of these vehicles. Overall, motorcycles offer an exciting, efficient, and exhilarating way to travel, making them a beloved mode of transportation for millions around the world.']"
      ]
     },
     "execution_count": 35,
     "metadata": {},
     "output_type": "execute_result"
    }
   ],
   "source": [
    "%%time\n",
    "\n",
    "chain2.batch([{\"topic\": \"Science\"}, {\"topic\": \"Motorcycle\"}])"
   ]
  },
  {
   "cell_type": "code",
   "execution_count": 36,
   "id": "e5429663-6616-4d06-85d4-e8d6d747bac2",
   "metadata": {},
   "outputs": [
    {
     "name": "stdout",
     "output_type": "stream",
     "text": [
      "CPU times: user 92.1 ms, sys: 15.6 ms, total: 108 ms\n",
      "Wall time: 11 s\n"
     ]
    },
    {
     "data": {
      "text/plain": [
       "[{'joke': ' Why don\\'t fish sing in the bath?\\n\\nBecause it might give them reef-ion! This one is a play on words, as \"reef\" is a type of underwater structure and \"refection\" is a synonym for reflection. But in the context of singing, we can imagine \"re-fision\" which would be fishy business indeed!',\n",
       "  'exp': \" A sea is a large body of saline water that is surrounded by land. It covers about 71% of the Earth's surface and plays a vital role in many aspects of life. Seas provide habitat for various forms of marine life, including fish, crustaceans, mollusks, and other organisms. They also serve as crucial sources of food for billions of people worldwide.\\n\\nMoreover, seas influence the Earth's climate by absorbing and releasing heat, and they contribute significantly to the planet's carbon cycle. Seas are essential for various human activities such as shipping, tourism, and energy production through sources like oil and natural gas. The five largest seas in the world are the Atlantic Ocean, Indian Ocean, Southern Ocean, Arctic Ocean, and the Pacific Ocean.\"},\n",
       " {'joke': ' Why don\\'t cars ever get lost?\\n\\nBecause they always follow the road map... in their on-board computer system! (This one plays with the fact that cars have GPS technology and the idiom \"get lost\" meaning to be unable to find one\\'s way.)',\n",
       "  'exp': ' A car, short for automobile, is a wheeled motor vehicle designed for the transport of people or goods. It operates using internal combustion engines, which are fueled by gasoline (petrol) or diesel. Cars come in various sizes and types, from small compact cars to large SUVs and buses. They provide an efficient and convenient means of transportation with seating for multiple passengers and the ability to travel long distances at high speeds. Safety features such as airbags, seatbelts, and advanced braking systems ensure the protection of both the occupants and other road users. With advancements in technology, cars are becoming more eco-friendly and connected, offering features like electric or hybrid powertrains, autonomous driving capabilities, and smart infotainment systems.'}]"
      ]
     },
     "execution_count": 36,
     "metadata": {},
     "output_type": "execute_result"
    }
   ],
   "source": [
    "%%time\n",
    "\n",
    "combined.batch([{\"topic\": \"Sea\"}, {\"topic\": \"Car\"}])"
   ]
  },
  {
   "cell_type": "code",
   "execution_count": null,
   "id": "3da1804a-d7b0-49f0-a5b9-798bdb5e8cd9",
   "metadata": {},
   "outputs": [],
   "source": []
  }
 ],
 "metadata": {
  "kernelspec": {
   "display_name": "Python 3 (ipykernel)",
   "language": "python",
   "name": "python3"
  },
  "language_info": {
   "codemirror_mode": {
    "name": "ipython",
    "version": 3
   },
   "file_extension": ".py",
   "mimetype": "text/x-python",
   "name": "python",
   "nbconvert_exporter": "python",
   "pygments_lexer": "ipython3",
   "version": "3.10.12"
  }
 },
 "nbformat": 4,
 "nbformat_minor": 5
}
